{
  "nbformat": 4,
  "nbformat_minor": 0,
  "metadata": {
    "colab": {
      "provenance": [],
      "authorship_tag": "ABX9TyOzRGtpBTiUoew2qZofjgLL",
      "include_colab_link": true
    },
    "kernelspec": {
      "name": "python3",
      "display_name": "Python 3"
    },
    "language_info": {
      "name": "python"
    }
  },
  "cells": [
    {
      "cell_type": "markdown",
      "metadata": {
        "id": "view-in-github",
        "colab_type": "text"
      },
      "source": [
        "<a href=\"https://colab.research.google.com/github/arpdm/apcs/blob/main/apcs_main.ipynb\" target=\"_parent\"><img src=\"https://colab.research.google.com/assets/colab-badge.svg\" alt=\"Open In Colab\"/></a>"
      ]
    },
    {
      "cell_type": "code",
      "execution_count": 1,
      "metadata": {
        "id": "WKX4GFypTV--"
      },
      "outputs": [],
      "source": [
        "import os\n",
        "import pathlib\n",
        "import tarfile\n",
        "import urllib.request"
      ]
    },
    {
      "cell_type": "code",
      "source": [
        "core_path = \"\"\n",
        "data_path = \"data/smass_data/\"\n",
        "\n",
        "# Set the path for downloading data files\n",
        "pathlib.Path(os.path.join(core_path, data_path)).mkdir(parents=True, exist_ok=True)"
      ],
      "metadata": {
        "id": "kIHQQ382UC5v"
      },
      "execution_count": 2,
      "outputs": []
    },
    {
      "cell_type": "code",
      "source": [
        "smass_data_files = \\\n",
        "    {'file1': {'url': 'http://smass.mit.edu/data/smass/Bus.Taxonomy.txt',\n",
        "               'sha256': '0ce970a6972dd7c49d512848b9736d00b621c9d6395a035bd1b4f3780d4b56c6'},\n",
        "     'file2': {'url': 'http://smass.mit.edu/data/smass/smass2data.tar.gz',\n",
        "               'sha256': 'dacf575eb1403c08bdfbffcd5dbfe12503a588e09b04ed19cc4572584a57fa97'}}"
      ],
      "metadata": {
        "id": "4oQU2HvUUweh"
      },
      "execution_count": 3,
      "outputs": []
    },
    {
      "cell_type": "code",
      "source": [
        "def downloadDataFiles(file_dictionary):\n",
        "\n",
        "    for df in file_dictionary:\n",
        "\n",
        "        # Get the URL and create a download filepath by splitting it at the last \"/\"\n",
        "        split = urllib.parse.urlsplit(file_dictionary[df][\"url\"])\n",
        "        filename = pathlib.Path(os.path.join(core_path, data_path, split.path.split(\"/\")[-1]))\n",
        "\n",
        "        # Download the files if they dont exist already\n",
        "        if not filename.is_file():\n",
        "            print(f\"Downloading now: {file_dictionary[df]['url']}\")\n",
        "            _ , _ = urllib.request.urlretrieve(url=file_dictionary[df][\"url\"], filename=filename)"
      ],
      "metadata": {
        "id": "bJnP-f-tVCO8"
      },
      "execution_count": 4,
      "outputs": []
    },
    {
      "cell_type": "code",
      "source": [
        "downloadDataFiles(smass_data_files)"
      ],
      "metadata": {
        "id": "Id6WagVRW3OU",
        "outputId": "bc9fdbcc-1c13-4a5d-c109-6ba1aef617f9",
        "colab": {
          "base_uri": "https://localhost:8080/"
        }
      },
      "execution_count": 5,
      "outputs": [
        {
          "output_type": "stream",
          "name": "stdout",
          "text": [
            "Downloading now: http://smass.mit.edu/data/smass/Bus.Taxonomy.txt\n",
            "Downloading now: http://smass.mit.edu/data/smass/smass2data.tar.gz\n"
          ]
        }
      ]
    },
    {
      "cell_type": "code",
      "source": [
        "# Untar the spectra data\n",
        "tar = tarfile.open(os.path.join(core_path, data_path, \"smass2data.tar.gz\"), \"r:gz\")\n",
        "tar.extractall(os.path.join(core_path, data_path))\n",
        "tar.close()"
      ],
      "metadata": {
        "id": "d8M01w0OXOqh"
      },
      "execution_count": 6,
      "outputs": []
    }
  ]
}