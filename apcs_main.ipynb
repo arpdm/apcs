{
  "nbformat": 4,
  "nbformat_minor": 0,
  "metadata": {
    "colab": {
      "provenance": [],
      "authorship_tag": "ABX9TyNYGPm13RjofDb2zaOszuX+",
      "include_colab_link": true
    },
    "kernelspec": {
      "name": "python3",
      "display_name": "Python 3"
    },
    "language_info": {
      "name": "python"
    }
  },
  "cells": [
    {
      "cell_type": "markdown",
      "metadata": {
        "id": "view-in-github",
        "colab_type": "text"
      },
      "source": [
        "<a href=\"https://colab.research.google.com/github/arpdm/apcs/blob/main/apcs_main.ipynb\" target=\"_parent\"><img src=\"https://colab.research.google.com/assets/colab-badge.svg\" alt=\"Open In Colab\"/></a>"
      ]
    },
    {
      "cell_type": "code",
      "execution_count": 2,
      "metadata": {
        "id": "WKX4GFypTV--"
      },
      "outputs": [],
      "source": [
        "import os\n",
        "import pathlib\n",
        "import tarfile\n",
        "import urllib.request"
      ]
    },
    {
      "cell_type": "code",
      "source": [
        "core_path = \"\"\n",
        "\n",
        "# Set the path for downloading data files\n",
        "pathlib.Path(os.path.join(core_path, \"data/smass_data/\")).mkdir(parents=True, exist_ok=True)"
      ],
      "metadata": {
        "id": "kIHQQ382UC5v"
      },
      "execution_count": 3,
      "outputs": []
    }
  ]
}