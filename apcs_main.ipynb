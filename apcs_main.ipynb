{
  "nbformat": 4,
  "nbformat_minor": 0,
  "metadata": {
    "colab": {
      "provenance": [],
      "authorship_tag": "ABX9TyMy7m2ZMNUG3c4tsMrPwBry",
      "include_colab_link": true
    },
    "kernelspec": {
      "name": "python3",
      "display_name": "Python 3"
    },
    "language_info": {
      "name": "python"
    }
  },
  "cells": [
    {
      "cell_type": "markdown",
      "metadata": {
        "id": "view-in-github",
        "colab_type": "text"
      },
      "source": [
        "<a href=\"https://colab.research.google.com/github/arpdm/apcs/blob/main/apcs_main.ipynb\" target=\"_parent\"><img src=\"https://colab.research.google.com/assets/colab-badge.svg\" alt=\"Open In Colab\"/></a>"
      ]
    },
    {
      "cell_type": "code",
      "execution_count": 26,
      "metadata": {
        "id": "WKX4GFypTV--"
      },
      "outputs": [],
      "source": [
        "import os\n",
        "import pathlib\n",
        "import tarfile\n",
        "import urllib.request\n",
        "import glob\n",
        "import re\n",
        "import pandas as pd"
      ]
    },
    {
      "cell_type": "code",
      "source": [
        "from google.colab import drive\n",
        "drive.mount('/content/drive')"
      ],
      "metadata": {
        "id": "AgToDoxOqOx2",
        "outputId": "627071ea-f1fd-48e1-b8a5-c5de3e350a45",
        "colab": {
          "base_uri": "https://localhost:8080/"
        }
      },
      "execution_count": 120,
      "outputs": [
        {
          "output_type": "stream",
          "name": "stdout",
          "text": [
            "Drive already mounted at /content/drive; to attempt to forcibly remount, call drive.mount(\"/content/drive\", force_remount=True).\n"
          ]
        }
      ]
    },
    {
      "cell_type": "code",
      "source": [
        "core_path = \"/content/drive/MyDrive/Sector_002/APCS\"\n",
        "data_path = \"data/smass_data/\"\n",
        "\n",
        "# Set the path for downloading data files\n",
        "pathlib.Path(os.path.join(core_path, data_path)).mkdir(parents=True, exist_ok=True)"
      ],
      "metadata": {
        "id": "kIHQQ382UC5v"
      },
      "execution_count": 121,
      "outputs": []
    },
    {
      "cell_type": "code",
      "source": [
        "smass_data_files = \\\n",
        "    {'file1': {'url': 'http://smass.mit.edu/data/smass/Bus.Taxonomy.txt',\n",
        "               'sha256': '0ce970a6972dd7c49d512848b9736d00b621c9d6395a035bd1b4f3780d4b56c6'},\n",
        "     'file2': {'url': 'http://smass.mit.edu/data/smass/smass2data.tar.gz',\n",
        "               'sha256': 'dacf575eb1403c08bdfbffcd5dbfe12503a588e09b04ed19cc4572584a57fa97'}}"
      ],
      "metadata": {
        "id": "4oQU2HvUUweh"
      },
      "execution_count": 122,
      "outputs": []
    },
    {
      "cell_type": "code",
      "source": [
        "def downloadDataFiles(file_dictionary):\n",
        "\n",
        "    for df in file_dictionary:\n",
        "\n",
        "        # Get the URL and create a download filepath by splitting it at the last \"/\"\n",
        "        split = urllib.parse.urlsplit(file_dictionary[df][\"url\"])\n",
        "        filename = pathlib.Path(os.path.join(core_path, data_path, split.path.split(\"/\")[-1]))\n",
        "\n",
        "        # Download the files if they dont exist already\n",
        "        if not filename.is_file():\n",
        "            print(f\"Downloading now: {file_dictionary[df]['url']}\")\n",
        "            _ , _ = urllib.request.urlretrieve(url=file_dictionary[df][\"url\"], filename=filename)"
      ],
      "metadata": {
        "id": "bJnP-f-tVCO8"
      },
      "execution_count": 123,
      "outputs": []
    },
    {
      "cell_type": "code",
      "source": [
        "downloadDataFiles(smass_data_files)"
      ],
      "metadata": {
        "id": "Id6WagVRW3OU"
      },
      "execution_count": 124,
      "outputs": []
    },
    {
      "cell_type": "code",
      "source": [
        "# Untar the spectra data\n",
        "tar = tarfile.open(os.path.join(core_path, data_path, \"smass2data.tar.gz\"), \"r:gz\")\n",
        "tar.extractall(os.path.join(core_path, data_path))\n",
        "tar.close()"
      ],
      "metadata": {
        "id": "d8M01w0OXOqh"
      },
      "execution_count": 125,
      "outputs": []
    },
    {
      "cell_type": "code",
      "source": [
        "file_paths = sorted(glob.glob(os.path.join(core_path, data_path, \"smass2/*spfit*\")))"
      ],
      "metadata": {
        "id": "w9Y3INiiu2Wg"
      },
      "execution_count": 126,
      "outputs": []
    },
    {
      "cell_type": "code",
      "source": [
        "des_file_paths = file_paths[:-8]\n",
        "non_des_file_paths = file_paths[-8:]"
      ],
      "metadata": {
        "id": "LbN8aV9xvX8_"
      },
      "execution_count": 127,
      "outputs": []
    },
    {
      "cell_type": "code",
      "source": [
        "des_file_paths_df = pd.DataFrame(des_file_paths, columns=['FilePath'])\n",
        "non_des_file_paths_df = pd.DataFrame(non_des_file_paths, columns=['FilePath'])"
      ],
      "metadata": {
        "id": "QL0_GrjmwJD3"
      },
      "execution_count": 128,
      "outputs": []
    },
    {
      "cell_type": "code",
      "source": [
        "# Apply designations and temporary names of asteroids to their file paths\n",
        "des_file_paths_df.loc[:,\"DesNr\"] = des_file_paths_df[\"FilePath\"].apply(lambda x: int(re.search(r\"smass2/a(.*).spfit\", x).group(1)))\n",
        "non_des_file_paths_df.loc[:,\"DesNr\"] = non_des_file_paths_df[\"FilePath\"].apply(lambda x: re.search(r\"smass2/au(.*).spfit\", x).group(1))\n"
      ],
      "metadata": {
        "id": "KmafQcMAxZnb"
      },
      "execution_count": 129,
      "outputs": []
    },
    {
      "cell_type": "code",
      "source": [
        "# Map classses to the file paths\n",
        "asteroid_class_df = pd.read_csv(os.path.join(core_path, data_path, \"Bus.Taxonomy.txt\"),\n",
        "                                skiprows = 21,\n",
        "                                sep=\"\\t\",\n",
        "                                names=[\"Name\", \"Tholen_Class\",\"Bus_Class\",\"unknown1\",\"unknown2\"])"
      ],
      "metadata": {
        "id": "FPyf17vwzFSb"
      },
      "execution_count": 130,
      "outputs": []
    },
    {
      "cell_type": "code",
      "source": [
        "asteroid_class_df.loc[:,\"Name\"] = asteroid_class_df[\"Name\"].apply(lambda x: x.strip()).copy()\n",
        "des_asteroid_class_df = asteroid_class_df[:1403].copy()\n",
        "non_des_asteroid_class_df = asteroid_class_df[1403:].copy()\n",
        "\n",
        "des_asteroid_class_df.loc[:,\"DesNr\"] = des_asteroid_class_df[\"Name\"].apply(lambda x: int(x.split(\" \")[0]))\n",
        "des_ast_class_df_full = des_asteroid_class_df.merge(des_file_paths_df, on=\"DesNr\", how=\"left\")\n",
        "\n",
        "non_des_asteroid_class_df.loc[:,\"DesNr\"] = non_des_asteroid_class_df[\"Name\"].apply(lambda x: x.replace(\" \", \"\"))\n",
        "non_des_ast_class_df_full = non_des_asteroid_class_df.merge(non_des_file_paths_df, on=\"DesNr\", how=\"left\")\n",
        "non_des_ast_class_df_full = non_des_ast_class_df_full.dropna(subset=[\"FilePath\"])\n",
        "\n",
        "asteroid_data_df = pd.concat([des_ast_class_df_full, non_des_ast_class_df_full], ignore_index=True, axis = 0)\n",
        "asteroid_data_df.reset_index(drop=True, inplace=True)\n",
        "asteroid_data_df.drop(columns=[\"Tholen_Class\", \"unknown1\", \"unknown2\"], inplace=True)\n",
        "asteroid_data_df.dropna(subset=[\"Bus_Class\"], inplace=True)\n",
        "asteroid_data_df.dropna(subset=[\"FilePath\"], inplace=True)"
      ],
      "metadata": {
        "id": "QjGvRvVbcOuK"
      },
      "execution_count": 131,
      "outputs": []
    },
    {
      "cell_type": "code",
      "source": [
        "# Add astroid spectrum data to the data frame then save it to storage\n",
        "asteroid_data_df.loc[:, \"SpectrumDF\"] = \\\n",
        "    asteroid_data_df[\"FilePath\"].apply(lambda x: pd.read_csv(x, sep=\"\\t\", names=[\"Wavelength_in_microm\",\"Reflectance_norm550nm\"]))\n",
        "\n",
        "# Convert the Designation Number to string\n",
        "asteroid_data_df.loc[:, \"DesNr\"] = asteroid_data_df[\"DesNr\"].astype(str)\n",
        "asteroid_data_df.to_pickle(os.path.join(core_path, \"data/\", \"asteroid_spectrum.pkl\"), protocol=4)"
      ],
      "metadata": {
        "id": "H_M9C5-myX-P"
      },
      "execution_count": 135,
      "outputs": []
    }
  ]
}